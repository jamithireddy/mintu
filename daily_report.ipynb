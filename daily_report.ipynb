{
 "cells": [
  {
   "cell_type": "code",
   "execution_count": 1,
   "metadata": {},
   "outputs": [],
   "source": [
    "import pandas as pd \n",
    "from glob import glob\n",
    "import os\n",
    "import sys\n",
    "import tkinter as tk\n",
    "from tkinter import filedialog\n",
    "import csv\n",
    "import json\n",
    "import openpyxl\n",
    "import xlsxwriter"
   ]
  },
  {
   "cell_type": "code",
   "execution_count": 2,
   "metadata": {},
   "outputs": [],
   "source": [
    "root=tk.Tk()\n",
    "root.withdraw()\n",
    "file1=filedialog.askopenfilename(title=\"Browse the required file...\")"
   ]
  },
  {
   "cell_type": "code",
   "execution_count": 3,
   "metadata": {},
   "outputs": [],
   "source": [
    "df=pd.read_csv(file1)\n",
    "file_name='Raw_data_for_'+(os.path.splitext(file1)[0]).split('/')[-1]"
   ]
  },
  {
   "cell_type": "code",
   "execution_count": 4,
   "metadata": {},
   "outputs": [],
   "source": [
    "df['event_data'].astype('str')\n",
    "df['event_data']=df['event_data'].apply(json.loads)\n",
    "df2=pd.json_normalize(df['event_data'])\n",
    "df3=pd.concat([df.drop(['event_data'],axis=1),df2],axis=1)\n",
    "del df,df2\n",
    "df3[\"type\"]=df3[\"type\"].replace(\"apron_management.\",\"\",regex=True)\n",
    "cols = []\n",
    "count = 1\n",
    "for column in df3.columns:\n",
    "    if column == 'time':\n",
    "        cols.append(f'time.{count}')\n",
    "        count+=1\n",
    "        continue\n",
    "    cols.append(column)\n",
    "df3.columns = cols\n",
    "df3.drop('version', inplace=True, axis=1)"
   ]
  },
  {
   "cell_type": "code",
   "execution_count": 5,
   "metadata": {},
   "outputs": [
    {
     "name": "stderr",
     "output_type": "stream",
     "text": [
      "C:\\Users\\jamit\\AppData\\Local\\Temp\\ipykernel_12404\\3917250090.py:2: SettingWithCopyWarning: \n",
      "A value is trying to be set on a copy of a slice from a DataFrame.\n",
      "Try using .loc[row_indexer,col_indexer] = value instead\n",
      "\n",
      "See the caveats in the documentation: https://pandas.pydata.org/pandas-docs/stable/user_guide/indexing.html#returning-a-view-versus-a-copy\n",
      "  stage_changes['VDGS_state']=stage_changes.prev_safedock_state.str.cat(stage_changes.safedock_state,sep='_To_')\n",
      "C:\\Users\\jamit\\AppData\\Local\\Temp\\ipykernel_12404\\3917250090.py:3: SettingWithCopyWarning: \n",
      "A value is trying to be set on a copy of a slice from a DataFrame.\n",
      "Try using .loc[row_indexer,col_indexer] = value instead\n",
      "\n",
      "See the caveats in the documentation: https://pandas.pydata.org/pandas-docs/stable/user_guide/indexing.html#returning-a-view-versus-a-copy\n",
      "  stage_changes['Flight_ID']=stage_changes['carrier'].str.cat(stage_changes['flight_nr'],sep=' ')\n",
      "C:\\Users\\jamit\\AppData\\Local\\Temp\\ipykernel_12404\\3917250090.py:6: SettingWithCopyWarning: \n",
      "A value is trying to be set on a copy of a slice from a DataFrame\n",
      "\n",
      "See the caveats in the documentation: https://pandas.pydata.org/pandas-docs/stable/user_guide/indexing.html#returning-a-view-versus-a-copy\n",
      "  stage_changes.rename(columns = {\"id\":\"ID\", \"type\":\"Type\", \"time.2\":\"Time\", \"ifplid\":\"IFPLID\", \"ac_type\":\"Aircraft_Type\", \"apron_id\":\"Apron_ID\", \"stand_id\":\"Stand_ID\", \"VDGS_state\":\"VDGS_State\",\"event_classification\":\"Event_Classification\"},inplace=True)\n",
      "C:\\Users\\jamit\\AppData\\Local\\Temp\\ipykernel_12404\\3917250090.py:7: SettingWithCopyWarning: \n",
      "A value is trying to be set on a copy of a slice from a DataFrame.\n",
      "Try using .loc[row_indexer,col_indexer] = value instead\n",
      "\n",
      "See the caveats in the documentation: https://pandas.pydata.org/pandas-docs/stable/user_guide/indexing.html#returning-a-view-versus-a-copy\n",
      "  stage_changes['Type']=stage_changes['Type'].replace(to_replace =\"dgs_state_changes\",value =\"Stage Changes\")\n"
     ]
    }
   ],
   "source": [
    "stage_changes=df3[(df3['process'] != \"alarm_housekeeper\") & (df3['type'] == \"dgs_state_changes\")& (df3['event_type'] == \"SafedockStateChangeEvent\")]\n",
    "stage_changes['VDGS_state']=stage_changes.prev_safedock_state.str.cat(stage_changes.safedock_state,sep='_To_')\n",
    "stage_changes['Flight_ID']=stage_changes['carrier'].str.cat(stage_changes['flight_nr'],sep=' ')\n",
    "stage_cols=[\"id\", \"type\", \"time.2\", \"ifplid\", \"ac_type\", \"apron_id\", \"stand_id\", \"VDGS_state\",\"event_classification\", \"Flight_ID\"]\n",
    "stage_changes=stage_changes[stage_cols]\n",
    "stage_changes.rename(columns = {\"id\":\"ID\", \"type\":\"Type\", \"time.2\":\"Time\", \"ifplid\":\"IFPLID\", \"ac_type\":\"Aircraft_Type\", \"apron_id\":\"Apron_ID\", \"stand_id\":\"Stand_ID\", \"VDGS_state\":\"VDGS_State\",\"event_classification\":\"Event_Classification\"},inplace=True)\n",
    "stage_changes['Type']=stage_changes['Type'].replace(to_replace =\"dgs_state_changes\",value =\"Stage Changes\")"
   ]
  },
  {
   "cell_type": "code",
   "execution_count": 6,
   "metadata": {},
   "outputs": [],
   "source": [
    "filter_col = [col for col in df3 if col.startswith('alarm.')]\n",
    "alarms=df3[(df3['type'] == \"alarms\")& (df3['event_type'] == \"AlarmOccurrencesEvent\")]\n",
    "alarm_cols=[\"id\", \"host\", \"process\", \"time.1\", \"type\", \"site\", \"time.2\", \"event_classification\",'apron_id', \"alarm\", \"event_src\", \"event_type\", \"location_info\", \"schedule_info\"]\n",
    "alarm_cols=alarm_cols+filter_col\n",
    "alarms=alarms[alarm_cols]\n",
    "alarms=alarms.explode('schedule_info')\n",
    "alarms=alarms.explode('location_info')\n",
    "alarms['alarm.alarm-description'].dropna(inplace=True)\n",
    "alarm_location=pd.json_normalize(alarms['location_info'])\n",
    "alarm_location=alarm_location.add_prefix('location_info.')\n",
    "alarm_schedule=pd.json_normalize(alarms['schedule_info'])\n",
    "alarm_schedule=alarm_schedule.add_prefix('schedule_info.')\n",
    "alarms=pd.concat([alarms.reset_index(),alarm_location.reset_index(),alarm_schedule.reset_index()],axis=1)\n",
    "alarms['Flight_ID']=alarms['schedule_info.carrier'].str.cat(alarms['schedule_info.flight_nr'],sep=' ')\n",
    "alarms=alarms[['id','type', 'site', 'time.2','event_classification','alarm.alarm-id','location_info.apron_id','alarm.stand-id','alarm.alarm-code', 'alarm.alarm-description','schedule_info.ac_type','Flight_ID']]\n",
    "alarms.rename(columns = {'id':'ID','type':'Type','time.2':'Time','alarm.alarm-id':'Alarm_ID','location_info.apron_id':'Apron_ID','alarm.stand-id':'Stand_ID','alarm.alarm-code':'Alarm_Code', 'alarm.alarm-description':'Alarm_Description','schedule_info.ac_type':'Aircraft_Type'}, inplace = True)"
   ]
  },
  {
   "cell_type": "code",
   "execution_count": 7,
   "metadata": {},
   "outputs": [],
   "source": [
    "error_mapping={'Minor display error - faulty LEDs detected':'Technical','IDFailed - IdLostTrackCloseToStop':'Operational','ApronBlocked':'Operational','IDFailed - NoseHeightFailed':'Operational','GateBlocked':'Operational','Major display error - faulty LED board detected':'Technical','IDFailed - VerAnalysisFailedTooClose':'Operational','AutoCalibrationError':'Technical','BridgeNotIn':'Operational','SBUStop - AzimuthStop':'Technical','SBUStop - ScanFailed':'Technical','IDFailed - EngineCheckFailed':'Operational','ConfigurationError - SystemIntegrity':'Technical','SBUStop - LdmDataRate':'Technical','ViewBlocked':'Operational','IDFailed - ProfileFailed':'Operational'}\n",
    "stage_change_alarms=pd.concat([stage_changes,alarms],axis=0,ignore_index=True)\n",
    "stage_change_alarms['Error_Type'] = stage_change_alarms['Alarm_Description'].map(error_mapping)\n",
    "stage_change_alarms['Time']=pd.to_datetime(stage_change_alarms['Time'])"
   ]
  },
  {
   "cell_type": "code",
   "execution_count": 8,
   "metadata": {},
   "outputs": [],
   "source": [
    "check=df3[(df3['type'] == \"alarms\")& (df3['event_type'] == \"AlarmOccurrencesEvent\")]\n",
    "check=check['alarm.alarm-description'].value_counts().reset_index()"
   ]
  },
  {
   "cell_type": "code",
   "execution_count": 9,
   "metadata": {},
   "outputs": [],
   "source": [
    "with pd.ExcelWriter(\"C:/Users/jamit\\Desktop/\"+file_name+\".xlsx\") as writer:\n",
    "    stage_change_alarms.to_excel(writer, sheet_name=\"VDGS_stagechanges_alarms\", index=False)\n",
    "    check.to_excel(writer, sheet_name=\"Errors\", index=False)\n"
   ]
  }
 ],
 "metadata": {
  "kernelspec": {
   "display_name": "Python 3.9.12 ('base')",
   "language": "python",
   "name": "python3"
  },
  "language_info": {
   "codemirror_mode": {
    "name": "ipython",
    "version": 3
   },
   "file_extension": ".py",
   "mimetype": "text/x-python",
   "name": "python",
   "nbconvert_exporter": "python",
   "pygments_lexer": "ipython3",
   "version": "3.9.12"
  },
  "orig_nbformat": 4,
  "vscode": {
   "interpreter": {
    "hash": "4c859a12a015ea8c223761a046b681c9373a994422f7817205a70d811fa02c99"
   }
  }
 },
 "nbformat": 4,
 "nbformat_minor": 2
}
