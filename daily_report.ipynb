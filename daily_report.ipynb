{
 "cells": [
  {
   "cell_type": "code",
   "execution_count": 32,
   "metadata": {},
   "outputs": [],
   "source": [
    "import pandas as pd \n",
    "from glob import glob\n",
    "import os\n",
    "import sys\n",
    "import tkinter as tk\n",
    "from tkinter import filedialog\n",
    "import csv\n",
    "import json\n",
    "import openpyxl\n",
    "import xlsxwriter"
   ]
  },
  {
   "cell_type": "code",
   "execution_count": 33,
   "metadata": {},
   "outputs": [],
   "source": [
    "root=tk.Tk()\n",
    "root.withdraw()\n",
    "file1=filedialog.askopenfilename(title=\"Browse the required file...\")"
   ]
  },
  {
   "cell_type": "code",
   "execution_count": 34,
   "metadata": {},
   "outputs": [],
   "source": [
    "df=pd.read_csv(file1)\n",
    "file_name='Raw_data_for_'+(os.path.splitext(file1)[0]).split('/')[-1]"
   ]
  },
  {
   "cell_type": "code",
   "execution_count": 35,
   "metadata": {},
   "outputs": [],
   "source": [
    "df['event_data'].astype('str')\n",
    "df['event_data']=df['event_data'].apply(json.loads)\n",
    "df2=pd.json_normalize(df['event_data'])\n",
    "df3=pd.concat([df.drop(['event_data'],axis=1),df2],axis=1)\n",
    "del df,df2\n",
    "df3[\"type\"]=df3[\"type\"].replace(\"apron_management.\",\"\",regex=True)\n",
    "cols = []\n",
    "count = 1\n",
    "for column in df3.columns:\n",
    "    if column == 'time':\n",
    "        cols.append(f'time.{count}')\n",
    "        count+=1\n",
    "        continue\n",
    "    cols.append(column)\n",
    "df3.columns = cols\n",
    "df3.drop('version', inplace=True, axis=1)"
   ]
  },
  {
   "cell_type": "code",
   "execution_count": 36,
   "metadata": {},
   "outputs": [
    {
     "name": "stderr",
     "output_type": "stream",
     "text": [
      "C:\\Users\\jamit\\AppData\\Local\\Temp\\ipykernel_12404\\3917250090.py:2: SettingWithCopyWarning: \n",
      "A value is trying to be set on a copy of a slice from a DataFrame.\n",
      "Try using .loc[row_indexer,col_indexer] = value instead\n",
      "\n",
      "See the caveats in the documentation: https://pandas.pydata.org/pandas-docs/stable/user_guide/indexing.html#returning-a-view-versus-a-copy\n",
      "  stage_changes['VDGS_state']=stage_changes.prev_safedock_state.str.cat(stage_changes.safedock_state,sep='_To_')\n",
      "C:\\Users\\jamit\\AppData\\Local\\Temp\\ipykernel_12404\\3917250090.py:3: SettingWithCopyWarning: \n",
      "A value is trying to be set on a copy of a slice from a DataFrame.\n",
      "Try using .loc[row_indexer,col_indexer] = value instead\n",
      "\n",
      "See the caveats in the documentation: https://pandas.pydata.org/pandas-docs/stable/user_guide/indexing.html#returning-a-view-versus-a-copy\n",
      "  stage_changes['Flight_ID']=stage_changes['carrier'].str.cat(stage_changes['flight_nr'],sep=' ')\n",
      "C:\\Users\\jamit\\AppData\\Local\\Temp\\ipykernel_12404\\3917250090.py:6: SettingWithCopyWarning: \n",
      "A value is trying to be set on a copy of a slice from a DataFrame\n",
      "\n",
      "See the caveats in the documentation: https://pandas.pydata.org/pandas-docs/stable/user_guide/indexing.html#returning-a-view-versus-a-copy\n",
      "  stage_changes.rename(columns = {\"id\":\"ID\", \"type\":\"Type\", \"time.2\":\"Time\", \"ifplid\":\"IFPLID\", \"ac_type\":\"Aircraft_Type\", \"apron_id\":\"Apron_ID\", \"stand_id\":\"Stand_ID\", \"VDGS_state\":\"VDGS_State\",\"event_classification\":\"Event_Classification\"},inplace=True)\n",
      "C:\\Users\\jamit\\AppData\\Local\\Temp\\ipykernel_12404\\3917250090.py:7: SettingWithCopyWarning: \n",
      "A value is trying to be set on a copy of a slice from a DataFrame.\n",
      "Try using .loc[row_indexer,col_indexer] = value instead\n",
      "\n",
      "See the caveats in the documentation: https://pandas.pydata.org/pandas-docs/stable/user_guide/indexing.html#returning-a-view-versus-a-copy\n",
      "  stage_changes['Type']=stage_changes['Type'].replace(to_replace =\"dgs_state_changes\",value =\"Stage Changes\")\n"
     ]
    }
   ],
   "source": [
    "stage_changes=df3[(df3['process'] != \"alarm_housekeeper\") & (df3['type'] == \"dgs_state_changes\")& (df3['event_type'] == \"SafedockStateChangeEvent\")]\n",
    "stage_changes['VDGS_state']=stage_changes.prev_safedock_state.str.cat(stage_changes.safedock_state,sep='_To_')\n",
    "stage_changes['Flight_ID']=stage_changes['carrier'].str.cat(stage_changes['flight_nr'],sep=' ')\n",
    "stage_cols=[\"id\", \"type\", \"time.2\", \"ifplid\", \"ac_type\", \"apron_id\", \"stand_id\", \"VDGS_state\",\"event_classification\", \"Flight_ID\"]\n",
    "stage_changes=stage_changes[stage_cols]\n",
    "stage_changes.rename(columns = {\"id\":\"ID\", \"type\":\"Type\", \"time.2\":\"Time\", \"ifplid\":\"IFPLID\", \"ac_type\":\"Aircraft_Type\", \"apron_id\":\"Apron_ID\", \"stand_id\":\"Stand_ID\", \"VDGS_state\":\"VDGS_State\",\"event_classification\":\"Event_Classification\"},inplace=True)\n",
    "stage_changes['Type']=stage_changes['Type'].replace(to_replace =\"dgs_state_changes\",value =\"Stage Changes\")"
   ]
  },
  {
   "cell_type": "code",
   "execution_count": 37,
   "metadata": {},
   "outputs": [],
   "source": [
    "filter_col = [col for col in df3 if col.startswith('alarm.')]\n",
    "alarms=df3[(df3['type'] == \"alarms\")& (df3['event_type'] == \"AlarmOccurrencesEvent\")]\n",
    "alarm_cols=[\"id\", \"host\", \"process\", \"time.1\", \"type\", \"site\", \"time.2\", \"event_classification\",'apron_id', \"alarm\", \"event_src\", \"event_type\", \"location_info\", \"schedule_info\"]\n",
    "alarm_cols=alarm_cols+filter_col\n",
    "alarms=alarms[alarm_cols]\n",
    "alarms=alarms.explode('schedule_info')\n",
    "alarms=alarms.explode('location_info')\n",
    "alarms['alarm.alarm-description'].dropna(inplace=True)\n",
    "alarm_location=pd.json_normalize(alarms['location_info'])\n",
    "alarm_location=alarm_location.add_prefix('location_info.')\n",
    "alarm_schedule=pd.json_normalize(alarms['schedule_info'])\n",
    "alarm_schedule=alarm_schedule.add_prefix('schedule_info.')\n",
    "alarms=pd.concat([alarms.reset_index(),alarm_location.reset_index(),alarm_schedule.reset_index()],axis=1)\n",
    "alarms['Flight_ID']=alarms['schedule_info.carrier'].str.cat(alarms['schedule_info.flight_nr'],sep=' ')\n",
    "alarms=alarms[['id','type', 'site', 'time.2','event_classification','alarm.alarm-id','location_info.apron_id','alarm.stand-id','alarm.alarm-code', 'alarm.alarm-description','schedule_info.ac_type','Flight_ID']]\n",
    "alarms.rename(columns = {'id':'ID','type':'Type','time.2':'Time','alarm.alarm-id':'Alarm_ID','location_info.apron_id':'Apron_ID','alarm.stand-id':'Stand_ID','alarm.alarm-code':'Alarm_Code', 'alarm.alarm-description':'Alarm_Description','schedule_info.ac_type':'Aircraft_Type'}, inplace = True)"
   ]
  },
  {
   "cell_type": "code",
   "execution_count": 38,
   "metadata": {},
   "outputs": [],
   "source": [
    "error_mapping={'Minor display error - faulty LEDs detected':'Technical','IDFailed - IdLostTrackCloseToStop':'Operational','ApronBlocked':'Operational','IDFailed - NoseHeightFailed':'Operational','GateBlocked':'Operational','Major display error - faulty LED board detected':'Technical','IDFailed - VerAnalysisFailedTooClose':'Operational','AutoCalibrationError':'Technical','BridgeNotIn':'Operational','SBUStop - AzimuthStop':'Technical','SBUStop - ScanFailed':'Technical','IDFailed - EngineCheckFailed':'Operational','ConfigurationError - SystemIntegrity':'Technical','SBUStop - LdmDataRate':'Technical','ViewBlocked':'Operational','IDFailed - ProfileFailed':'Operational'}\n",
    "stage_change_alarms=pd.concat([stage_changes,alarms],axis=0,ignore_index=True)\n",
    "stage_change_alarms['Error_Type'] = stage_change_alarms['Alarm_Description'].map(error_mapping)\n",
    "stage_change_alarms['Time']=pd.to_datetime(stage_change_alarms['Time'])"
   ]
  },
  {
   "cell_type": "code",
   "execution_count": 39,
   "metadata": {},
   "outputs": [],
   "source": [
    "check=df3[(df3['type'] == \"alarms\")& (df3['event_type'] == \"AlarmOccurrencesEvent\")]\n",
    "check=check['alarm.alarm-description'].value_counts().reset_index()"
   ]
  },
  {
   "cell_type": "code",
   "execution_count": 40,
   "metadata": {},
   "outputs": [
    {
     "name": "stderr",
     "output_type": "stream",
     "text": [
      "C:\\Users\\jamit\\AppData\\Local\\Temp\\ipykernel_12404\\449847485.py:3: SettingWithCopyWarning: \n",
      "A value is trying to be set on a copy of a slice from a DataFrame.\n",
      "Try using .loc[row_indexer,col_indexer] = value instead\n",
      "\n",
      "See the caveats in the documentation: https://pandas.pydata.org/pandas-docs/stable/user_guide/indexing.html#returning-a-view-versus-a-copy\n",
      "  sam_sequencing['carrier_nr']=sam_sequencing['carrier'].str.cat(sam_sequencing['flight_nr'],sep=' ')\n",
      "C:\\Users\\jamit\\AppData\\Local\\Temp\\ipykernel_12404\\449847485.py:4: SettingWithCopyWarning: \n",
      "A value is trying to be set on a copy of a slice from a DataFrame.\n",
      "Try using .loc[row_indexer,col_indexer] = value instead\n",
      "\n",
      "See the caveats in the documentation: https://pandas.pydata.org/pandas-docs/stable/user_guide/indexing.html#returning-a-view-versus-a-copy\n",
      "  sam_sequencing['SAM_sequencing_state']=sam_sequencing['flight_plan_diff.fields.sequencing-state.from'].str.cat(sam_sequencing['flight_plan_diff.fields.sequencing-state.to'],sep='_To_')\n",
      "C:\\Users\\jamit\\AppData\\Local\\Temp\\ipykernel_12404\\449847485.py:9: SettingWithCopyWarning: \n",
      "A value is trying to be set on a copy of a slice from a DataFrame.\n",
      "Try using .loc[row_indexer,col_indexer] = value instead\n",
      "\n",
      "See the caveats in the documentation: https://pandas.pydata.org/pandas-docs/stable/user_guide/indexing.html#returning-a-view-versus-a-copy\n",
      "  sam_sequencing['flight_plan.timestamps.SEQT']=pd.to_datetime(sam_sequencing['flight_plan.timestamps.SEQT'])\n",
      "C:\\Users\\jamit\\AppData\\Local\\Temp\\ipykernel_12404\\449847485.py:10: SettingWithCopyWarning: \n",
      "A value is trying to be set on a copy of a slice from a DataFrame\n",
      "\n",
      "See the caveats in the documentation: https://pandas.pydata.org/pandas-docs/stable/user_guide/indexing.html#returning-a-view-versus-a-copy\n",
      "  sam_sequencing.rename(columns={'flight_plan.timestamps.SEQT':'SEQT','flight_plan.fields.stand':'Stand','flight_plan.fields.flight-plan-type':'flight-plan-type','flight_plan.fields.update-counter':'update-counter','flight_plan.fields.actual-dgs-aircraft-type':'actual-dgs-aircraft-type','flight_plan.fields.tow-in':'tow-in','flight_plan_diff.fields.sequencing-state.to':'ENd_Sequence','flight_plan.timestamps.EIBT':'EIBT','flight_plan.timestamps.DETECTED_AIBT':'DETECTED_AIBT','flight_plan.timestamps.EOBT':'EOBT','flight_plan.timestamps.DETECTED_AOBT':'DETECTED_AOBT'},inplace=True)\n"
     ]
    }
   ],
   "source": [
    "###SAM_sequencing###\n",
    "sam_sequencing=df3[(df3['type'] == \"flight_updates\")&(df3['event_type']!='FlightTerminatedEvent')]\n",
    "sam_sequencing['carrier_nr']=sam_sequencing['carrier'].str.cat(sam_sequencing['flight_nr'],sep=' ')\n",
    "sam_sequencing['SAM_sequencing_state']=sam_sequencing['flight_plan_diff.fields.sequencing-state.from'].str.cat(sam_sequencing['flight_plan_diff.fields.sequencing-state.to'],sep='_To_')\n",
    "# sam_filter_col = [col for col in sam_sequencing if col.startswith('flight_plan')]\n",
    "sam_col=['id','flight_plan.timestamps.SEQT','apron_id','flight_plan.fields.stand','flight_plan.fields.flight-plan-type','carrier_nr','flight_plan.fields.update-counter', 'ac_type','flight_plan.fields.actual-dgs-aircraft-type','flight_plan.fields.tow-in','SAM_sequencing_state','flight_plan_diff.fields.sequencing-state.to','flight_plan.timestamps.EIBT','flight_plan.timestamps.DETECTED_AIBT','flight_plan.timestamps.EOBT','flight_plan.timestamps.DETECTED_AOBT']\n",
    "# sam_col=sam_col+sam_filter_col\n",
    "sam_sequencing=sam_sequencing[sam_col]\n",
    "sam_sequencing['flight_plan.timestamps.SEQT']=pd.to_datetime(sam_sequencing['flight_plan.timestamps.SEQT'])\n",
    "sam_sequencing.rename(columns={'flight_plan.timestamps.SEQT':'SEQT','flight_plan.fields.stand':'Stand','flight_plan.fields.flight-plan-type':'flight-plan-type','flight_plan.fields.update-counter':'update-counter','flight_plan.fields.actual-dgs-aircraft-type':'actual-dgs-aircraft-type','flight_plan.fields.tow-in':'tow-in','flight_plan_diff.fields.sequencing-state.to':'ENd_Sequence','flight_plan.timestamps.EIBT':'EIBT','flight_plan.timestamps.DETECTED_AIBT':'DETECTED_AIBT','flight_plan.timestamps.EOBT':'EOBT','flight_plan.timestamps.DETECTED_AOBT':'DETECTED_AOBT'},inplace=True)"
   ]
  },
  {
   "cell_type": "code",
   "execution_count": 41,
   "metadata": {},
   "outputs": [
    {
     "ename": "PermissionError",
     "evalue": "[Errno 13] Permission denied: 'C:/Users/jamit\\\\Desktop/Raw_data_for_2022-08-16.xlsx'",
     "output_type": "error",
     "traceback": [
      "\u001b[1;31m---------------------------------------------------------------------------\u001b[0m",
      "\u001b[1;31mPermissionError\u001b[0m                           Traceback (most recent call last)",
      "\u001b[1;32mc:\\Users\\jamit\\OneDrive\\Practice\\Python Practice\\mintu\\daily_report.ipynb Cell 10\u001b[0m in \u001b[0;36m<cell line: 1>\u001b[1;34m()\u001b[0m\n\u001b[1;32m----> <a href='vscode-notebook-cell:/c%3A/Users/jamit/OneDrive/Practice/Python%20Practice/mintu/daily_report.ipynb#X10sZmlsZQ%3D%3D?line=0'>1</a>\u001b[0m \u001b[39mwith\u001b[39;00m pd\u001b[39m.\u001b[39;49mExcelWriter(\u001b[39m\"\u001b[39;49m\u001b[39mC:/Users/jamit\u001b[39;49m\u001b[39m\\\u001b[39;49m\u001b[39mDesktop/\u001b[39;49m\u001b[39m\"\u001b[39;49m\u001b[39m+\u001b[39;49mfile_name\u001b[39m+\u001b[39;49m\u001b[39m\"\u001b[39;49m\u001b[39m.xlsx\u001b[39;49m\u001b[39m\"\u001b[39;49m) \u001b[39mas\u001b[39;00m writer:\n\u001b[0;32m      <a href='vscode-notebook-cell:/c%3A/Users/jamit/OneDrive/Practice/Python%20Practice/mintu/daily_report.ipynb#X10sZmlsZQ%3D%3D?line=1'>2</a>\u001b[0m     stage_change_alarms\u001b[39m.\u001b[39mto_excel(writer, sheet_name\u001b[39m=\u001b[39m\u001b[39m\"\u001b[39m\u001b[39mVDGS_stagechanges_alarms\u001b[39m\u001b[39m\"\u001b[39m, index\u001b[39m=\u001b[39m\u001b[39mFalse\u001b[39;00m)\n\u001b[0;32m      <a href='vscode-notebook-cell:/c%3A/Users/jamit/OneDrive/Practice/Python%20Practice/mintu/daily_report.ipynb#X10sZmlsZQ%3D%3D?line=2'>3</a>\u001b[0m     check\u001b[39m.\u001b[39mto_excel(writer, sheet_name\u001b[39m=\u001b[39m\u001b[39m\"\u001b[39m\u001b[39mErrors\u001b[39m\u001b[39m\"\u001b[39m, index\u001b[39m=\u001b[39m\u001b[39mFalse\u001b[39;00m)\n",
      "File \u001b[1;32mc:\\Users\\jamit\\anaconda3\\lib\\site-packages\\pandas\\io\\excel\\_xlsxwriter.py:191\u001b[0m, in \u001b[0;36mXlsxWriter.__init__\u001b[1;34m(self, path, engine, date_format, datetime_format, mode, storage_options, if_sheet_exists, engine_kwargs, **kwargs)\u001b[0m\n\u001b[0;32m    188\u001b[0m \u001b[39mif\u001b[39;00m mode \u001b[39m==\u001b[39m \u001b[39m\"\u001b[39m\u001b[39ma\u001b[39m\u001b[39m\"\u001b[39m:\n\u001b[0;32m    189\u001b[0m     \u001b[39mraise\u001b[39;00m \u001b[39mValueError\u001b[39;00m(\u001b[39m\"\u001b[39m\u001b[39mAppend mode is not supported with xlsxwriter!\u001b[39m\u001b[39m\"\u001b[39m)\n\u001b[1;32m--> 191\u001b[0m \u001b[39msuper\u001b[39;49m()\u001b[39m.\u001b[39;49m\u001b[39m__init__\u001b[39;49m(\n\u001b[0;32m    192\u001b[0m     path,\n\u001b[0;32m    193\u001b[0m     engine\u001b[39m=\u001b[39;49mengine,\n\u001b[0;32m    194\u001b[0m     date_format\u001b[39m=\u001b[39;49mdate_format,\n\u001b[0;32m    195\u001b[0m     datetime_format\u001b[39m=\u001b[39;49mdatetime_format,\n\u001b[0;32m    196\u001b[0m     mode\u001b[39m=\u001b[39;49mmode,\n\u001b[0;32m    197\u001b[0m     storage_options\u001b[39m=\u001b[39;49mstorage_options,\n\u001b[0;32m    198\u001b[0m     if_sheet_exists\u001b[39m=\u001b[39;49mif_sheet_exists,\n\u001b[0;32m    199\u001b[0m     engine_kwargs\u001b[39m=\u001b[39;49mengine_kwargs,\n\u001b[0;32m    200\u001b[0m )\n\u001b[0;32m    202\u001b[0m \u001b[39mself\u001b[39m\u001b[39m.\u001b[39mbook \u001b[39m=\u001b[39m Workbook(\u001b[39mself\u001b[39m\u001b[39m.\u001b[39mhandles\u001b[39m.\u001b[39mhandle, \u001b[39m*\u001b[39m\u001b[39m*\u001b[39mengine_kwargs)\n",
      "File \u001b[1;32mc:\\Users\\jamit\\anaconda3\\lib\\site-packages\\pandas\\io\\excel\\_base.py:1106\u001b[0m, in \u001b[0;36mExcelWriter.__init__\u001b[1;34m(self, path, engine, date_format, datetime_format, mode, storage_options, if_sheet_exists, engine_kwargs, **kwargs)\u001b[0m\n\u001b[0;32m   1102\u001b[0m \u001b[39mself\u001b[39m\u001b[39m.\u001b[39mhandles \u001b[39m=\u001b[39m IOHandles(\n\u001b[0;32m   1103\u001b[0m     cast(IO[\u001b[39mbytes\u001b[39m], path), compression\u001b[39m=\u001b[39m{\u001b[39m\"\u001b[39m\u001b[39mcompression\u001b[39m\u001b[39m\"\u001b[39m: \u001b[39mNone\u001b[39;00m}\n\u001b[0;32m   1104\u001b[0m )\n\u001b[0;32m   1105\u001b[0m \u001b[39mif\u001b[39;00m \u001b[39mnot\u001b[39;00m \u001b[39misinstance\u001b[39m(path, ExcelWriter):\n\u001b[1;32m-> 1106\u001b[0m     \u001b[39mself\u001b[39m\u001b[39m.\u001b[39mhandles \u001b[39m=\u001b[39m get_handle(\n\u001b[0;32m   1107\u001b[0m         path, mode, storage_options\u001b[39m=\u001b[39;49mstorage_options, is_text\u001b[39m=\u001b[39;49m\u001b[39mFalse\u001b[39;49;00m\n\u001b[0;32m   1108\u001b[0m     )\n\u001b[0;32m   1109\u001b[0m \u001b[39mself\u001b[39m\u001b[39m.\u001b[39msheets: \u001b[39mdict\u001b[39m[\u001b[39mstr\u001b[39m, Any] \u001b[39m=\u001b[39m {}\n\u001b[0;32m   1110\u001b[0m \u001b[39mself\u001b[39m\u001b[39m.\u001b[39mcur_sheet \u001b[39m=\u001b[39m \u001b[39mNone\u001b[39;00m\n",
      "File \u001b[1;32mc:\\Users\\jamit\\anaconda3\\lib\\site-packages\\pandas\\io\\common.py:798\u001b[0m, in \u001b[0;36mget_handle\u001b[1;34m(path_or_buf, mode, encoding, compression, memory_map, is_text, errors, storage_options)\u001b[0m\n\u001b[0;32m    789\u001b[0m         handle \u001b[39m=\u001b[39m \u001b[39mopen\u001b[39m(\n\u001b[0;32m    790\u001b[0m             handle,\n\u001b[0;32m    791\u001b[0m             ioargs\u001b[39m.\u001b[39mmode,\n\u001b[1;32m   (...)\u001b[0m\n\u001b[0;32m    794\u001b[0m             newline\u001b[39m=\u001b[39m\u001b[39m\"\u001b[39m\u001b[39m\"\u001b[39m,\n\u001b[0;32m    795\u001b[0m         )\n\u001b[0;32m    796\u001b[0m     \u001b[39melse\u001b[39;00m:\n\u001b[0;32m    797\u001b[0m         \u001b[39m# Binary mode\u001b[39;00m\n\u001b[1;32m--> 798\u001b[0m         handle \u001b[39m=\u001b[39m \u001b[39mopen\u001b[39;49m(handle, ioargs\u001b[39m.\u001b[39;49mmode)\n\u001b[0;32m    799\u001b[0m     handles\u001b[39m.\u001b[39mappend(handle)\n\u001b[0;32m    801\u001b[0m \u001b[39m# Convert BytesIO or file objects passed with an encoding\u001b[39;00m\n",
      "\u001b[1;31mPermissionError\u001b[0m: [Errno 13] Permission denied: 'C:/Users/jamit\\\\Desktop/Raw_data_for_2022-08-16.xlsx'"
     ]
    }
   ],
   "source": [
    "with pd.ExcelWriter(\"C:/Users/jamit\\Desktop/\"+file_name+\".xlsx\") as writer:\n",
    "    stage_change_alarms.to_excel(writer, sheet_name=\"VDGS_stagechanges_alarms\", index=False)\n",
    "    check.to_excel(writer, sheet_name=\"Errors\", index=False)\n",
    "    sam_sequencing.to_excel(writer, sheet_name=\"Sam_Sequencing\", index=False)\n",
    "\n"
   ]
  }
 ],
 "metadata": {
  "kernelspec": {
   "display_name": "Python 3.9.12 ('base')",
   "language": "python",
   "name": "python3"
  },
  "language_info": {
   "codemirror_mode": {
    "name": "ipython",
    "version": 3
   },
   "file_extension": ".py",
   "mimetype": "text/x-python",
   "name": "python",
   "nbconvert_exporter": "python",
   "pygments_lexer": "ipython3",
   "version": "3.9.12"
  },
  "orig_nbformat": 4,
  "vscode": {
   "interpreter": {
    "hash": "4c859a12a015ea8c223761a046b681c9373a994422f7817205a70d811fa02c99"
   }
  }
 },
 "nbformat": 4,
 "nbformat_minor": 2
}
