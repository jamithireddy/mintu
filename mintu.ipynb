{
 "cells": [
  {
   "cell_type": "code",
   "execution_count": 1,
   "metadata": {},
   "outputs": [],
   "source": [
    "import pandas as pd \n",
    "from glob import glob\n",
    "import os\n",
    "import sys\n",
    "import tkinter as tk\n",
    "from tkinter import filedialog\n",
    "import csv\n",
    "import json\n",
    "import openpyxl\n",
    "import xlsxwriter"
   ]
  },
  {
   "cell_type": "code",
   "execution_count": null,
   "metadata": {},
   "outputs": [],
   "source": [
    "# For Folder\n",
    "# root=tk.Tk()\n",
    "# root.withdraw()\n",
    "# folder1=filedialog.askdirectory(title=\"Browse the folder...\")"
   ]
  },
  {
   "cell_type": "code",
   "execution_count": null,
   "metadata": {},
   "outputs": [],
   "source": [
    "# For Folder\n",
    "# files_df1=sorted(glob(folder1+'/*.csv'))\n",
    "# df=pd.concat((pd.read_csv(file).assign(filename = file) for file in files_df1),ignore_index=True)"
   ]
  },
  {
   "cell_type": "code",
   "execution_count": 2,
   "metadata": {},
   "outputs": [],
   "source": [
    "# For File\n",
    "root=tk.Tk()\n",
    "root.withdraw()\n",
    "file1=filedialog.askopenfilename(title=\"Browse the required file...\")"
   ]
  },
  {
   "cell_type": "code",
   "execution_count": 3,
   "metadata": {},
   "outputs": [],
   "source": [
    "# For File\n",
    "df=pd.read_csv(file1)"
   ]
  },
  {
   "cell_type": "code",
   "execution_count": 4,
   "metadata": {},
   "outputs": [],
   "source": [
    "df['event_data'].astype('str')\n",
    "df['event_data']=df['event_data'].apply(json.loads)\n",
    "df2=pd.json_normalize(df['event_data'])\n",
    "df3=pd.concat([df.drop(['event_data'],axis=1),df2],axis=1)\n",
    "del df,df2\n",
    "df3[\"type\"]=df3[\"type\"].replace(\"apron_management.\",\"\",regex=True)\n",
    "cols = []\n",
    "count = 1\n",
    "for column in df3.columns:\n",
    "    if column == 'time':\n",
    "        cols.append(f'time.{count}')\n",
    "        count+=1\n",
    "        continue\n",
    "    cols.append(column)\n",
    "df3.columns = cols\n",
    "df3.drop('version', inplace=True, axis=1)"
   ]
  },
  {
   "cell_type": "code",
   "execution_count": null,
   "metadata": {},
   "outputs": [],
   "source": [
    "###STAGE_CHANGES###\n",
    "# Filters <- Process != alarm_housekeeper AND type = dgs_state_changes AND event_type = afedockStateChangeEvent\n",
    "stage_changes=df3[(df3['process'] != \"alarm_housekeeper\") & (df3['type'] == \"dgs_state_changes\")& (df3['event_type'] == \"SafedockStateChangeEvent\")]\n",
    "stage_changes['VDGS_state']=stage_changes.prev_safedock_state.str.cat(stage_changes.safedock_state,sep='_To_')\n",
    "stage_changes['Flight_ID']=stage_changes['carrier'].str.cat(stage_changes['flight_nr'],sep=' ')\n",
    "stage_cols=[\"id\", \"type\", \"time.2\", \"ifplid\", \"ac_type\", \"apron_id\", \"stand_id\", \"VDGS_state\",\"event_classification\", \"Flight_ID\"]\n",
    "stage_changes=stage_changes[stage_cols]\n",
    "stage_changes.rename(columns = {\"id\":\"ID\", \"type\":\"Type\", \"time.2\":\"Time\", \"ifplid\":\"IFPLID\", \"ac_type\":\"Aircraft_Type\", \"apron_id\":\"Apron_ID\", \"stand_id\":\"Stand_ID\", \"VDGS_state\":\"VDGS_State\",\"event_classification\":\"Event_Classification\"},inplace=True)\n",
    "stage_changes['Type']=stage_changes['Type'].replace(to_replace =\"dgs_state_changes\",value =\"Stage Changes\")"
   ]
  },
  {
   "cell_type": "code",
   "execution_count": 10,
   "metadata": {},
   "outputs": [],
   "source": [
    "check=df3[(df3['type'] == \"alarms\")& (df3['event_type'] == \"AlarmOccurrencesEvent\")]\n",
    "check=check['alarm.alarm-description'].value_counts().reset_index()"
   ]
  },
  {
   "cell_type": "code",
   "execution_count": null,
   "metadata": {},
   "outputs": [],
   "source": [
    "list=df3['alarm.alarm-description'].unique()\n",
    "list_df=pd.DataFrame(list)"
   ]
  },
  {
   "cell_type": "code",
   "execution_count": null,
   "metadata": {},
   "outputs": [],
   "source": [
    "###ALARMS###\n",
    "filter_col = [col for col in df3 if col.startswith('alarm.')]\n",
    "alarms=df3[(df3['type'] == \"alarms\")&(df3['event_src'] == \"Safedock\")& (df3['event_type'] == \"AlarmOccurrencesEvent\")]\n",
    "alarm_cols=[\"id\", \"host\", \"process\", \"time.1\", \"type\", \"site\", \"time.2\", \"event_classification\",'apron_id', \"alarm\", \"event_src\", \"event_type\", \"location_info\", \"schedule_info\"]\n",
    "alarm_cols=alarm_cols+filter_col\n",
    "alarms=alarms[alarm_cols]\n",
    "alarms=alarms.explode('schedule_info')\n",
    "alarms=alarms.explode('location_info')\n",
    "alarm_error_list = ['ApronBlocked','AutoCalibrationError','BridgeNotIn','ConfigurationError - SystemIntegrity','GateBlocked','IDFailed - EngineCheckFailed','IDFailed - IdLostTrackCloseToStop','IDFailed - NoseHeightFailed','IDFailed - ProfileFailed','IDFailed - VerAnalysisFailedTooClose','Major display error - faulty LED board detected','Minor display error - faulty LEDs detected','SBUStop - AzimuthStop','SBUStop - LdmDataRate','SBUStop - ScanFailed','ViewBlocked']\n",
    "alarms=alarms[(alarms['alarm.alarm-description'].isin(alarm_error_list) )]\n",
    "alarm_location=pd.json_normalize(alarms['location_info'])\n",
    "alarm_location=alarm_location.add_prefix('location_info.')\n",
    "alarm_schedule=pd.json_normalize(alarms['schedule_info'])\n",
    "alarm_schedule=alarm_schedule.add_prefix('schedule_info.')\n",
    "alarms=pd.concat([alarms.reset_index(),alarm_location.reset_index(),alarm_schedule.reset_index()],axis=1)\n",
    "alarms['Flight_ID']=alarms['schedule_info.carrier'].str.cat(alarms['schedule_info.flight_nr'],sep=' ')\n",
    "alarms=alarms[['id','type', 'site', 'time.2','event_classification','alarm.alarm-id','location_info.apron_id','alarm.stand-id','alarm.alarm-code', 'alarm.alarm-description','schedule_info.ac_type','Flight_ID']]\n",
    "alarms.rename(columns = {'id':'ID','type':'Type','time.2':'Time','alarm.alarm-id':'Alarm_ID','location_info.apron_id':'Apron_ID','alarm.stand-id':'Stand_ID','alarm.alarm-code':'Alarm_Code', 'alarm.alarm-description':'Alarm_Description','schedule_info.ac_type':'Aircraft_Type'}, inplace = True)"
   ]
  },
  {
   "cell_type": "code",
   "execution_count": 11,
   "metadata": {},
   "outputs": [],
   "source": [
    "###TOTAL_ALARMS###\n",
    "filter_col = [col for col in df3 if col.startswith('alarm.')]\n",
    "total_alarms=df3[(df3['type'] == \"alarms\")& (df3['event_type'] == \"AlarmOccurrencesEvent\")]\n",
    "total_alarm_cols=[\"id\", \"host\", \"process\", \"time.1\", \"type\", \"site\", \"time.2\", \"event_classification\",'apron_id', \"alarm\", \"event_src\", \"event_type\", \"location_info\", \"schedule_info\"]\n",
    "total_alarm_cols=total_alarm_cols+filter_col\n",
    "total_alarms=total_alarms[total_alarm_cols]\n",
    "total_alarms=total_alarms.explode('schedule_info')\n",
    "total_alarms=total_alarms.explode('location_info')\n",
    "total_alarm_error_list = ['ApronBlocked','AutoCalibrationError','BridgeNotIn','ConfigurationError - SystemIntegrity','GateBlocked','IDFailed - EngineCheckFailed','IDFailed - IdLostTrackCloseToStop','IDFailed - NoseHeightFailed','IDFailed - ProfileFailed','IDFailed - VerAnalysisFailedTooClose','Interface Status Alarm: AGL NOK','Interface Status Alarm: CCTV NOK','Interface Status Alarm: NTP NOK','Interface Status Alarm: SMR Degraded','Interface Status Alarm: SMR NOK','Interface Status Alarm: SRV1 NOK','Interface Status Alarm: SRV2 NOK','Interface Status Alarm: UFIS NOK','Major display error - faulty LED board detected','Minor display error - faulty LEDs detected','Safedock Connection Lost','SBUStop - AzimuthStop','SBUStop - LdmDataRate','SBUStop - ScanFailed','ViewBlocked','Walktest required for All','Walktest required for C:T;C:1;C:2;C:3','Walktest required for C:T;C:1;C:2;C:3;C:4;C:5','Walktest required for C:T;C:2;C:3;C:4;C:5','Walktest required for L:T;L:1;L:2;L:3','Walktest required for R:T;R:1;R:2']\n",
    "total_alarms=total_alarms[(total_alarms['alarm.alarm-description'].isin(total_alarm_error_list) )]\n",
    "total_alarm_location=pd.json_normalize(total_alarms['location_info'])\n",
    "total_alarm_location=total_alarm_location.add_prefix('location_info.')\n",
    "total_alarm_schedule=pd.json_normalize(total_alarms['schedule_info'])\n",
    "total_alarm_schedule=total_alarm_schedule.add_prefix('schedule_info.')\n",
    "total_alarms=pd.concat([total_alarms.reset_index(),total_alarm_location.reset_index(),total_alarm_schedule.reset_index()],axis=1)\n",
    "total_alarms['Flight_ID']=total_alarms['schedule_info.carrier'].str.cat(total_alarms['schedule_info.flight_nr'],sep=' ')\n",
    "total_alarms=total_alarms[['id','type', 'site', 'time.2','event_classification','alarm.alarm-id','location_info.apron_id','alarm.stand-id','alarm.alarm-code', 'alarm.alarm-description','schedule_info.ac_type','Flight_ID']]\n",
    "total_alarms.rename(columns = {'id':'ID','type':'Type','time.2':'Time','alarm.alarm-id':'Alarm_ID','location_info.apron_id':'Apron_ID','alarm.stand-id':'Stand_ID','alarm.alarm-code':'Alarm_Code', 'alarm.alarm-description':'Alarm_Description','schedule_info.ac_type':'Aircraft_Type'}, inplace = True)"
   ]
  },
  {
   "cell_type": "code",
   "execution_count": null,
   "metadata": {},
   "outputs": [],
   "source": [
    "###PIVOT HELPER####\n",
    "\n",
    "error_mapping={'Minor display error - faulty LEDs detected':'Technical','IDFailed - IdLostTrackCloseToStop':'Operational','ApronBlocked':'Operational','IDFailed - NoseHeightFailed':'Operational','GateBlocked':'Operational','Major display error - faulty LED board detected':'Technical','IDFailed - VerAnalysisFailedTooClose':'Operational','AutoCalibrationError':'Technical','BridgeNotIn':'Operational','SBUStop - AzimuthStop':'Technical','SBUStop - ScanFailed':'Technical','IDFailed - EngineCheckFailed':'Operational','ConfigurationError - SystemIntegrity':'Technical','SBUStop - LdmDataRate':'Technical','ViewBlocked':'Operational','IDFailed - ProfileFailed':'Operational'}\n",
    "stage_change_alarms=pd.concat([stage_changes,alarms],axis=0,ignore_index=True)\n",
    "stage_change_alarms['Error_Type'] = stage_change_alarms['Alarm_Description'].map(error_mapping)\n",
    "stage_change_alarms['Time']=pd.to_datetime(stage_change_alarms['Time'])"
   ]
  },
  {
   "cell_type": "code",
   "execution_count": null,
   "metadata": {},
   "outputs": [],
   "source": [
    "###sosFileSize###\n",
    "sosFileSize=df3[(df3['type'] == \"safedock_file_downloads\")]\n",
    "sos_columns=['id', 'time.1',  'stand_id','file_name','file_size','file_destination_path']\n",
    "sosFileSize=sosFileSize[sos_columns]"
   ]
  },
  {
   "cell_type": "code",
   "execution_count": null,
   "metadata": {},
   "outputs": [],
   "source": [
    "###aibt_aobt###\n",
    "aibt_aobt=df3[(df3['type'] == \"block_on_off\")]\n",
    "aibt_aobt['carrier_nr']=aibt_aobt['carrier'].str.cat(aibt_aobt['flight_nr'],sep=' ')\n",
    "aibt_aobt_cols=[\"id\", \"type\", \"stand_id\", \"ac_type\", \"carrier_nr\", \"detected_aibt\", \"detected_aobt\", \"trigger_source\"]\n",
    "aibt_aobt=aibt_aobt[aibt_aobt_cols]"
   ]
  },
  {
   "cell_type": "code",
   "execution_count": null,
   "metadata": {},
   "outputs": [],
   "source": [
    "###Commands###\n",
    "commands=df3[((df3['type'] == \"block_on_off\")|(df3['type'] == \"closed_for_maintenance\")|(df3['type'] == \"dgs_commands\")|(df3['type'] == \"dgs_state_changes\"))&((df3['event_type'] != \"AircraftScanEvent\")&(df3['event_src'] != \"SAM\"))]\n",
    "commands['carrier_nr']=commands['carrier'].str.cat(commands['flight_nr'],sep=' ')\n",
    "commands=commands[~(commands['event_type'].isin(['EmergencyStopEvent','MaintenanceEvent','SafedockStateChangeEvent']))] \n",
    "commands=commands[(commands['event_type'].isin(['AbortDockingEvent','ParkOffEvent','ParkOnEvent','ShutdownScheduleEvent','StartDockingEvent']))] \n",
    "commands_columns=['id','time.2','event_type','stand_id','event_src','carrier_nr','ac_type']\n",
    "commands=commands[commands_columns]\n",
    "commands['time.2']=pd.to_datetime(commands['time.2'])\n",
    "commands.rename(columns = {'time.2':'time'},inplace=True)\n"
   ]
  },
  {
   "cell_type": "code",
   "execution_count": null,
   "metadata": {},
   "outputs": [],
   "source": [
    "###SAM_sequencing###\n",
    "sam_sequencing=df3[(df3['type'] == \"flight_updates\")&(df3['flight_plan.fields.sequencing-state']=='Completed')&(df3['event_type']!='FlightTerminatedEvent')]\n",
    "sam_sequencing['carrier_nr']=sam_sequencing['carrier'].str.cat(sam_sequencing['flight_nr'],sep=' ')\n",
    "sam_sequencing['SAM_sequencing_state']=sam_sequencing['flight_plan_diff.fields.sequencing-state.from'].str.cat(sam_sequencing['flight_plan_diff.fields.sequencing-state.to'],sep='_To_')\n",
    "# sam_filter_col = [col for col in sam_sequencing if col.startswith('flight_plan')]\n",
    "sam_col=['id','flight_plan.timestamps.SEQT','flight_plan.fields.stand','flight_plan.fields.flight-plan-type','carrier_nr','flight_plan.fields.update-counter', 'ac_type','flight_plan.fields.actual-dgs-aircraft-type','flight_plan.fields.tow-in','SAM_sequencing_state','flight_plan.timestamps.EIBT','flight_plan.timestamps.DETECTED_AIBT','flight_plan.timestamps.EOBT','flight_plan.timestamps.DETECTED_AOBT']\n",
    "# sam_col=sam_col+sam_filter_col\n",
    "sam_sequencing=sam_sequencing[sam_col]\n",
    "sam_sequencing['flight_plan.timestamps.SEQT']=pd.to_datetime(sam_sequencing['flight_plan.timestamps.SEQT'])\n",
    "sam_sequencing.rename(columns={'flight_plan.timestamps.SEQT':'SEQT','flight_plan.fields.stand':'Stand','flight_plan.fields.flight-plan-type':'flight-plan-type','flight_plan.fields.update-counter':'update-counter','flight_plan.fields.actual-dgs-aircraft-type':'actual-dgs-aircraft-type','flight_plan.fields.tow-in':'tow-in','flight_plan.timestamps.EIBT':'EIBT','flight_plan.timestamps.DETECTED_AIBT':'DETECTED_AIBT','flight_plan.timestamps.EOBT':'EOBT','flight_plan.timestamps.DETECTED_AOBT':'DETECTED_AOBT'},inplace=True)"
   ]
  },
  {
   "cell_type": "code",
   "execution_count": null,
   "metadata": {},
   "outputs": [],
   "source": [
    "###Interface###\n",
    "interface=df3[(df3['type'] == \"equipment_state_changes\") & df3['event_type'].isin(['GPUOffEvent','GPUOnEvent','PLBDockedEvent','PLBInEvent'])]\n",
    "interface_col=[\"id\",\"time.2\",\"event_type\",\"equipment_id\"]\n",
    "interface=interface[interface_col]\n",
    "interface['time.2']=pd.to_datetime(interface['time.2'])\n",
    "interface.rename(columns={\"time.2\":\"time\"},inplace=True)"
   ]
  },
  {
   "cell_type": "code",
   "execution_count": null,
   "metadata": {},
   "outputs": [],
   "source": [
    "###Downgraded###\n",
    "downgraded=df3[(df3['type'] == \"dgs_downgrade\")]\n",
    "downgraded['carrier_nr']=downgraded['carrier'].str.cat(downgraded['flight_nr'],sep=' ')\n",
    "downgraded_cols=[\"id\", \"time.2\", \"ifplid\", \"carrier_nr\", \"reg_nr\", \"ac_type\", \"apron_id\", \"stand_id\", \"event_type\"]\n",
    "downgraded=downgraded[downgraded_cols]"
   ]
  },
  {
   "cell_type": "code",
   "execution_count": null,
   "metadata": {},
   "outputs": [],
   "source": [
    "###RIDS###\n",
    "rids=df3[(df3['process'] == \"stand_engine\")&(df3['type'] == \"rids\")]"
   ]
  },
  {
   "cell_type": "code",
   "execution_count": null,
   "metadata": {},
   "outputs": [],
   "source": [
    "with pd.ExcelWriter(\"C:/Users/jamit\\Desktop/filename.xlsx\") as writer:\n",
    "\n",
    "    # use to_excel function and specify the sheet_name and index\n",
    "    # to store the dataframe in specified sheet\n",
    "    stage_change_alarms.to_excel(writer, sheet_name=\"VDGS_stagechanges_alarms\", index=False)\n",
    "    stage_changes.to_excel(writer, sheet_name=\"VDGS_stagechanges\", index=False)\n",
    "    alarms.to_excel(writer, sheet_name=\"VDGS_alarms\", index=False)\n",
    "    sosFileSize.to_excel(writer, sheet_name=\"VDGS_sosFileSizw\", index=False)\n",
    "    aibt_aobt.to_excel(writer, sheet_name=\"VDGS_aibt_aobt\", index=False)\n",
    "    commands.to_excel(writer, sheet_name=\"VDGS_commands\", index=False)\n",
    "    sam_sequencing.to_excel(\n",
    "        writer, sheet_name=\"VDGS_sam_sequencing\", index=False)\n",
    "    interface.to_excel(writer, sheet_name=\"VDGS_interface\", index=False)"
   ]
  },
  {
   "cell_type": "code",
   "execution_count": 9,
   "metadata": {},
   "outputs": [],
   "source": [
    "with pd.ExcelWriter(\"C:/Users/jamit\\Desktop/list_error.xlsx\") as writer:\n",
    "  check.to_excel(writer, sheet_name=\"error_list\", index=False)\n",
    "  total_alarms.to_excel(writer, sheet_name=\"All_Errors\", index=False)"
   ]
  }
 ],
 "metadata": {
  "kernelspec": {
   "display_name": "Python 3.9.12 ('base')",
   "language": "python",
   "name": "python3"
  },
  "language_info": {
   "codemirror_mode": {
    "name": "ipython",
    "version": 3
   },
   "file_extension": ".py",
   "mimetype": "text/x-python",
   "name": "python",
   "nbconvert_exporter": "python",
   "pygments_lexer": "ipython3",
   "version": "3.9.12"
  },
  "orig_nbformat": 4,
  "vscode": {
   "interpreter": {
    "hash": "4c859a12a015ea8c223761a046b681c9373a994422f7817205a70d811fa02c99"
   }
  }
 },
 "nbformat": 4,
 "nbformat_minor": 2
}
